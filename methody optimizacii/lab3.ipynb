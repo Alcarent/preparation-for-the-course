{
  "cells": [
    {
      "cell_type": "markdown",
      "metadata": {
        "id": "Nd_Z8XAVfA61"
      },
      "source": [
        "# <center>Лабораторная работа 3.</center>\n",
        "## <center>Модели линейного программирования</center>\n",
        "\n",
        "*Автор материала: к.т.н., доцент кафедры Фундаметальной информатики и оптимального управления ВолГУ Михаил Алексеевич Харитонов*\n",
        "\n",
        "**Цель работы:** приобретение практических навыков решения задач линейного программирования c использованием языка Python в Jupyter Notebook.\n",
        "\n",
        "**Задание:** Заполните ответ в клетках (где написано \"Ваш код здесь\" или \"Ваш ответ здесь\"), ответьте на вопросы.\n",
        "\n"
      ]
    },
    {
      "cell_type": "markdown",
      "metadata": {
        "id": "I511shCF9TJ0"
      },
      "source": [
        "# Часть 1 Python"
      ]
    },
    {
      "cell_type": "markdown",
      "metadata": {
        "id": "xqngvoYRI9Hz"
      },
      "source": [
        "### Пример 1.1"
      ]
    },
    {
      "cell_type": "markdown",
      "metadata": {
        "id": "y0oo18QuA9kf"
      },
      "source": [
        "\n",
        "На мебельной фабрике из листов фанеры вырезают заготовки трех видов. Их должно быть, соответственно, не менее 24, 31 и 18. Существует два способа раскроя листа: 2+5+2 (отходы 12 см.) и 6+4+3 (отходы 16 см.). Сколько листов и как нужно раскроить, чтобы минимизировать отходы?\n",
        "\n",
        "**Решение.**\n",
        "\n",
        "Пусть\n",
        "\n",
        "$x_{1} $ - количество листов, раскроенных первым способом;\n",
        "\n",
        "$x_{2} $- количество листов, раскроенных вторым способом;\n",
        "\n",
        "При первом способе раскроя получают 2 заготовки первого вида, 5 заготовок второго вида и 2 заготовки третьего вида. При втором способе раскроя получают 6 заготовок первого вида, 4 заготовки второго вида и 3 заготовки третьего вида.  Так как их должно быть не менее 24, 31 и 18 соответственно, имеем:\n",
        "\n",
        "$$2x_{1} +6x_{2} \\ge 24, \\,\\,5x_{1} +4x_{2} \\ge 31,\\,\\, 2x_{1} +3x_{2} \\ge 18.$$\n",
        "\n",
        "\n",
        "Дополним ограничения условием неотрицательности для листов, необходимых для раскроя:\n",
        "\n",
        "$$x_{1} \\ge 0, \\,\\,x_{2} \\ge 0.$$\n",
        "\n",
        "Описанные выше ограничения представляют собой множество $G$ -- область допустимых решений.\n",
        "$$G=\\{2x_{1} +6x_{2} \\ge 24, \\,\\,5x_{1} +4x_{2} \\ge 31,\\,\\, 2x_{1} +3x_{2} \\ge 18, \\,\\, x_{1} \\ge 0, \\,\\,x_{2} \\ge 0\\}.$$\n",
        "\n",
        "Составим целевую функцию. Так как нам необходимо минимизировать отходы, причем при первом способе раскроя отходы составляют 12 см. с листа, а при втором -- 16 см. с листа, получаем:\n",
        "\n",
        "\n",
        "\\begin{equation*}\n",
        "f(x_{1} ,x_{2} )=12x_{1} +16x_{2} \\to \\mathop{\\min }\\limits_{G}.\n",
        "\\end{equation*}\n"
      ]
    },
    {
      "cell_type": "code",
      "execution_count": null,
      "metadata": {
        "colab": {
          "base_uri": "https://localhost:8080/",
          "height": 408
        },
        "id": "AX3Wt9f-ptvh",
        "outputId": "01e5f910-c5a4-4563-aa96-76ee4f50e20f"
      },
      "outputs": [],
      "source": [
        "import matplotlib.pyplot as plt\n",
        "import numpy as np\n",
        "d = np.linspace(-2,16,300)\n",
        "x,y = np.meshgrid(d,d)\n",
        "plt.imshow( ((6*y>=24-2*x) & (4*y>=31-5*x) & (3*y>=18-2*x) & (x>=0)&(y>=0)).astype(int), extent=(x.min(),x.max(),y.min(),y.max()),origin=\"lower\", cmap=\"Greys\", alpha = 0.3);\n",
        "\n",
        "\n",
        "# plot the lines defining the constraints\n",
        "x = np.linspace(0, 16, 2000)\n",
        "# y >= 2\n",
        "y1 = 24/6.0-2*x/6.0\n",
        "# 2y <= 25 - x\n",
        "y2 =31/4.0-5*x/4.0\n",
        "# 4y >= 2x - 8\n",
        "y3 = 18/3.0-2*x/3.0\n",
        "for c in range(0,115,15):\n",
        "  y4 = (c-12*x)/16.0\n",
        " # plt.plot(x, y4, label=r'$12x_{1} +16x_{2} = c$')\n",
        "\n",
        "\n",
        "# Make plot\n",
        "plt.plot(x, y1, label=r'$2x_{1} +6x_{2} \\geq 24$')\n",
        "plt.plot(x, y2, label=r'$5x_{1} +4x_{2} \\geq 31$')\n",
        "plt.plot(x, y3, label=r'$2x_{1} +3x_{2} \\geq 18$')\n",
        "plt.xlim(0,13)\n",
        "plt.ylim(0,8)\n",
        "plt.legend(bbox_to_anchor=(1.05, 1), loc=2, borderaxespad=0.)\n",
        "plt.xlabel(r'$x_1$')\n",
        "plt.ylabel(r'$x_2$')"
      ]
    },
    {
      "cell_type": "markdown",
      "metadata": {
        "id": "fdSyrdRbItsy"
      },
      "source": [
        "## SciPy (функция linprog)"
      ]
    },
    {
      "cell_type": "markdown",
      "metadata": {
        "id": "IZqmhgPysno0"
      },
      "source": [
        "\n",
        "В библиотеке SciPy для решения задач линейного программирования используется функция `linprog`, которая позволяет решать задачи  вида:\n",
        "$$\n",
        "  c^T x\\to \\min, A \\cdot x\\leq b, A_{eq} \\cdot x= b_{eq}, l_b\\leq x \\leq u_b,\n",
        "$$\n",
        "где\n",
        " $c$ --- вектор-столбец коэффициентов целевой функции (размерность $n$);\n",
        "\n",
        " $A$  --- матрица линейных ограничений в форме неравенств (размерность $k \\times n$);\n",
        "\n",
        " $b$ --- вектор-столбец правых частей ограничений в форме неравенств  (размерность $k$);\n",
        "\n",
        " $A_{eq}$  - матрица линейных ограничений в форме равенств (размерность $m-k \\times n$);\n",
        "\n",
        " $b_{eq}$ - вектор-столбец правых частей ограничений в форме равенств  (размерность $m-k$);\n",
        "\n",
        "  $l_b$ - вектор-столбец --- нижняя оценка $x$ (размерность $n$);\n",
        "\n",
        " $u_b$ - вектор-столбец --- верхняя оценка $x$ (размерность $n$);\n",
        "\n",
        "\n",
        "\n",
        "Синтаксис обращения к функции `linprog` зависит от количества входных и выходных аргументов функции:\n",
        "```\n",
        "scipy.optimize.linprog(c, A_ub=None, b_ub=None, A_eq=None, b_eq=None, bounds=None, callback=None, options=None, x0=None)\n",
        "```\n",
        "*   `bounds` - последовательность пар (мин., макс.) для каждого элемента вектора $x$, определяющая минимальное и максимальное значения данной переменной .  По умолчанию границы равны (0, None).\n",
        "\n",
        "\n",
        "*   `callback` - содержит следующие параметры:\n",
        "\n",
        "   *  x [1-D array] --- вектор оптимального решения.\n",
        "\n",
        "   *     fun [float]  --- оптимальное значение целевой функции.\n",
        "\n",
        "    *    success [bool] --- истинно, когда алгоритм завершился успешно.\n",
        "\n",
        "    *   status [int] --- целое число, представляющее статус алгоритма.\n",
        "\n",
        "      0.   Оптимизация идет штатно.\n",
        "      1.   Достигнут предел итераций.\n",
        "      2.   Задача неразрешима.\n",
        "      3.   Задача неорганиченна.\n",
        "      4.   Возникли вычислительные трудности.\n",
        "\n",
        "   *   nit [int] --- номер текущей итерации.\n",
        "   *   message [str] --- строковый дескриптор статуса алгоритма.\n",
        "\n",
        "\n",
        "\n",
        "\n"
      ]
    },
    {
      "cell_type": "markdown",
      "metadata": {
        "id": "P1OLNQqrW1Yt"
      },
      "source": [
        "### Пример (LP SciPy)"
      ]
    },
    {
      "cell_type": "markdown",
      "metadata": {
        "id": "-gRwLno4vxRl"
      },
      "source": [
        "\n",
        "\n",
        "С помощью `linprog` найти решение следующей задачи линейного программирования\n",
        "\n",
        "\\begin{align*}\n",
        "f(x)=29x_1+45x_2\\to \\max\\limits_{G},\\\\\n",
        " G=\\left\\{x_1-x_2-3x_3\\leq 5,\\quad\n",
        " 2x_1-3x_2-7x_3+3x_4\\geq 10,\\\\\n",
        " 2x_1+8x_2+x_3=60,\\quad\n",
        " 4x_1+4x_2+x_4=60,\\\\\\\n",
        " 0 \\leq x_1 \\leq  6,\\quad\n",
        " x_3 \\geq -3 \\right\\}\n",
        "\\end{align*}\n",
        "\n",
        "Так как данная задача на поиск максимума линейной функции, а `linprog` используется для поиска минимима, поэтому умножим коэфициенты целевой функции на -1.\n",
        "\n",
        "Целевая функция будет иметь вид $$\\hat{f}(x)=-29\\cdot x_1-45\\cdot  x_2+0\\cdot  x_3+0\\cdot  x_4\\to \\min, $$\n",
        "а вектор $c=(-29,-45, 0, 0)^T$.\n",
        "\n",
        " Ограничения в форме неравенств должны быть со знаком $\\leq$, поэтому домножим второе ограничение на -1.\n",
        "\n",
        "Т.о. ограничения в форме неравенств будут иметь вид:\n",
        "\\begin{align*}\n",
        " x_1-x_2-3x_3\\leq 5,\\\\\n",
        " -2x_1+3x_2+7x_3-3x_4\\leq -10,\\\\\n",
        "\\end{align*}\n",
        "Данные ограничения можно записать в матричной форме\n",
        "$$A\\cdot x \\leq b,$$\n",
        "где\n",
        "$A =\n",
        "\\begin{pmatrix}\n",
        "1 & -1 & -3 & 0\\\\\n",
        "-2 & 3 & 7 & -3\n",
        "\\end{pmatrix}$, $b=\\begin{pmatrix}\n",
        "5\\\\\n",
        "-10\n",
        "\\end{pmatrix}$.\n",
        "\n",
        "Запишем ограничения в форме равенств\n",
        "\\begin{align*}\n",
        "  2x_1+8x_2+x_3=60,\\\\\n",
        " 4x_1+4x_2+x_4=60.\\\\\n",
        "\\end{align*}\n",
        "Данные ограничения можно записать в матричной форме\n",
        "$$A_{eq}\\cdot x \\leq b_{eq},$$\n",
        "где\n",
        "$A_{eq} =\n",
        "\\begin{pmatrix}\n",
        "2 & 8 & 1 & 0\\\\\n",
        "4 & 4 & 0 & 1\n",
        "\\end{pmatrix}$, $b_{eq}=\\begin{pmatrix}\n",
        "60\\\\\n",
        "60\n",
        "\\end{pmatrix}$.\n",
        "\n",
        "Давайте рассмотрим отдельные ограничения неравенства на отдельные переменные, которые можно использовать с помощью аргумента `bounds`. В документации `linprog` значение по умолчанию для границ равно (0, None), что означает, что нижняя граница для каждого решения переменная равна 0, а верхняя граница каждой переменной решения --- бесконечность.\n"
      ]
    },
    {
      "cell_type": "code",
      "execution_count": null,
      "metadata": {
        "colab": {
          "base_uri": "https://localhost:8080/"
        },
        "id": "UKmemDnMpsQa",
        "outputId": "7ccc3d38-f7f7-48b4-8fbe-e2f8745c6b12"
      },
      "outputs": [],
      "source": [
        "import numpy as np\n",
        "from scipy.optimize import linprog\n",
        "c = np.array([-29.0, -45.0, 0.0, 0.0])\n",
        "A = np.array([[1.0, -1.0, -3.0, 0.0],\n",
        "[-2.0, 3.0, 7.0, -3.0]])\n",
        "b = np.array([5.0, -10.0])\n",
        "A_eq = np.array([[2.0, 8.0, 1.0, 0.0],\n",
        "[4.0, 4.0, 0.0, 1.0]])\n",
        "b_eq = np.array([60.0, 60.0])\n",
        "x1_bounds =  (0, 6.0)\n",
        "x2_bounds = (0, None)\n",
        "x3_bounds =  (-3.0, None)\n",
        "x4_bounds = (0, None)\n",
        "bounds = [x1_bounds, x2_bounds, x3_bounds, x4_bounds]\n",
        "result = linprog(c, A_ub=A, b_ub=b, A_eq=A_eq, b_eq=b_eq,bounds=bounds)\n",
        "print(result)"
      ]
    },
    {
      "cell_type": "markdown",
      "metadata": {
        "id": "vXL1LvRmDCDX"
      },
      "source": [
        "Получили, что минимальное значение целевой функции $$\\hat{f}^*=\\hat{f}(x^*)=-453.782, $$ $$x^*=(6, 6.2173913, -1.73913043, 11.13043478)^T.$$\n",
        "\n",
        "Так как $\\hat{f}=-f$, то  $f^*=453.782$."
      ]
    },
    {
      "cell_type": "markdown",
      "metadata": {
        "id": "zdDJEOwbdzYq"
      },
      "source": [
        "### Задание 1"
      ]
    },
    {
      "cell_type": "markdown",
      "metadata": {
        "id": "K918WmWtd5Lj"
      },
      "source": [
        "С помощью `linprog` найти решение следующей задачи линейного программирования\n",
        "\n",
        "\\begin{align*}\n",
        "f(x)=-\\frac{3}{4}x_1+20x_2-\\frac{1}{2}x_3+6x_4\\to \\max\\limits_{G}, \\\\ \n",
        "G=\\left\\{\\frac{1}{4} x_1-8 x_2-x_3+9x_4+x_5=0, \\\\\n",
        " \\frac{1}{2} x_1-12 x_2-\\frac{1}{2}x_3+3x_4+x_6= 0, x_3+3x_4+x_7= 0\\right\\}\n",
        "\\end{align*}\n"
      ]
    },
    {
      "cell_type": "markdown",
      "metadata": {},
      "source": []
    },
    {
      "cell_type": "code",
      "execution_count": null,
      "metadata": {
        "id": "kh4DkUb8gFLT"
      },
      "outputs": [],
      "source": [
        "import numpy as np\n",
        "from scipy.optimize import linprog\n",
        "c = np.array([0.75, -20.0, 0.5, -6.0, 0.0, 0.0, 0.0])\n",
        "\n",
        "\n",
        "A_eq = np.array([[0.25, -8.0, -1.0, 9.0, 1.0, 0.0, 0.0],\n",
        "[0.5, -12.0, -0.5, 3.0, 0.0, 1.0, 0.0],\n",
        "[0.0, 0.0, 1.0, 3.0, 0.0, 0.0, 1.0]])\n",
        "b_eq = np.array([0.0, 0.0, 0.0])\n",
        "\n",
        "x1_bounds =  (0, None)\n",
        "x2_bounds = (0, None)\n",
        "x3_bounds =  (0, 0)\n",
        "x4_bounds = (0, 0)\n",
        "x5_bounds = (0, None)\n",
        "x6_bounds = (0, None)\n",
        "x7_bounds = (0, 0)\n",
        "bounds = [x1_bounds, x2_bounds, x3_bounds, x4_bounds, x5_bounds, x6_bounds, x7_bounds]\n",
        "\n",
        "result = linprog(c, A_ub=None, b_ub=None, A_eq=A_eq, b_eq=b_eq, bounds=bounds)\n",
        "print(result)"
      ]
    },
    {
      "cell_type": "markdown",
      "metadata": {
        "id": "yrbYZsvVSVVS"
      },
      "source": [
        "## OR-Tools (Google's Operations Research tools)"
      ]
    },
    {
      "cell_type": "markdown",
      "metadata": {
        "id": "G0Qsxg8aV1Gm"
      },
      "source": [
        "###Основные шаги в решении задачи линейного программирования с использованием обертки OR-Tools."
      ]
    },
    {
      "cell_type": "markdown",
      "metadata": {
        "id": "TZARYrX6VtKD"
      },
      "source": [
        "###0. Установка библиотек."
      ]
    },
    {
      "cell_type": "markdown",
      "metadata": {
        "id": "0OJiVPdASVVS"
      },
      "source": [
        "\n",
        "```\n",
        "pip install ortools\n",
        "```"
      ]
    },
    {
      "cell_type": "markdown",
      "metadata": {
        "id": "2Vniwfv2WDxK"
      },
      "source": [
        "###1. Импорт необходимых библиотек.\n",
        "\n",
        "\n"
      ]
    },
    {
      "cell_type": "markdown",
      "metadata": {
        "id": "1ujhUcUsWEBQ"
      },
      "source": [
        "\n",
        "\n",
        "```\n",
        "from ortools.linear_solver import pywraplp\n",
        "```"
      ]
    },
    {
      "cell_type": "markdown",
      "metadata": {
        "id": "1TWyfwXVWEJp"
      },
      "source": [
        "###2. Объявление солвера."
      ]
    },
    {
      "cell_type": "markdown",
      "metadata": {
        "id": "SizttqlzWENg"
      },
      "source": [
        "pywraplp — это оболочка Python для базового решателя C++.\n",
        "Аргумент solver_id указывает, что для задачи линейного программирования будет использован солвер GLOP .\n",
        "\n",
        "```\n",
        "solver_id = \"GLOP\"\n",
        "solver = pywraplp.Solver.CreateSolver(solver_id)\n",
        "```\n"
      ]
    },
    {
      "cell_type": "markdown",
      "metadata": {
        "id": "uOpQ-LWCWERN"
      },
      "source": [
        "###3. Создание переменных."
      ]
    },
    {
      "cell_type": "markdown",
      "metadata": {
        "id": "SCR1Nek7WEUT"
      },
      "source": [
        "Создание одной скалярной переменной $x$:\n",
        "\n",
        "```\n",
        "x = solver.type_variable (min_value, max_value, name_variable)\n",
        "```\n",
        "где\n",
        "\n",
        "    type_variable - тип переменной (IntVar - целочисленный, NumVar - вещественный, BoolVar - булевы),\n",
        "    min_value - минимальное возможное значение переменной,\n",
        "    max_value - максимальное возможное значение переменной,\n",
        "    name_variable - имя переменной.\n",
        "\n",
        "Если нужно создать вектор переменных ( многомерные вектора создаются с использование вложенных циклов)\n",
        "```\n",
        "x_string = ['x'+str(i) for i in range(1, n+1)]\n",
        "x = [solution.NumVar(0, solution.infinity(), i) for i in x_string]\n",
        "```"
      ]
    },
    {
      "cell_type": "markdown",
      "metadata": {
        "id": "cshquFaHWEXi"
      },
      "source": [
        "###4. Создание ограничений."
      ]
    },
    {
      "cell_type": "markdown",
      "metadata": {
        "id": "jsoYGLePWEaZ"
      },
      "source": [
        "\n",
        "\n",
        "Ограничения задачи можно добавлять по одному\n",
        "\n",
        "```\n",
        "solver.Add(x_1 - x_2 - 3 * x_3 <= 5)\n",
        "solver.Add(4 * x_1 + 4 * x_2 + x_4 == 60)\n",
        "```\n",
        "или сразу все, если задача записана в матричном виде\n",
        "```\n",
        "for r in range(len(b_eq)):\n",
        "    solver.Add(sum(a_eq[r][u] * x[u] for u in range(len(x))) == b_eq[r])\n",
        "\n",
        "for r in range(len(b)):\n",
        "    solver.Add(sum(a[r][u] * x[u] for u in range(len(x))) <= b[r])\n",
        "```"
      ]
    },
    {
      "cell_type": "markdown",
      "metadata": {
        "id": "at0raNqJWEde"
      },
      "source": [
        "###5. Создание целевой функции"
      ]
    },
    {
      "cell_type": "markdown",
      "metadata": {
        "id": "oMpLHEREWEgR"
      },
      "source": [
        "Если задача на максимум - solver.Maximize(), если на минимум - solver.Minimize.\n",
        "\n",
        "---\n",
        "\n",
        "\n",
        "\n",
        "```\n",
        "solver.Maximize(29 * x_1 + 45 * x_2)\n",
        "```\n",
        "или в матричном виде\n",
        "```\n",
        "solver.Maximize(sum(c[i] * x[i] for i in range(len(x))))      \n",
        "```"
      ]
    },
    {
      "cell_type": "markdown",
      "metadata": {
        "id": "gEdcmnLWW3oY"
      },
      "source": [
        "###6. Вызов солвера."
      ]
    },
    {
      "cell_type": "markdown",
      "metadata": {
        "id": "PjjClRecWEjK"
      },
      "source": [
        "\n",
        "```\n",
        "status = solver.Solve()\n",
        "```"
      ]
    },
    {
      "cell_type": "markdown",
      "metadata": {
        "id": "casIkG9EWz03"
      },
      "source": [
        "###7. Отображение результата."
      ]
    },
    {
      "cell_type": "markdown",
      "metadata": {
        "id": "gmgrWO3qSVVS"
      },
      "source": [
        "\n",
        "\n",
        "Если статус солвера сопадает с оптимальным, то  решение найдено. Можно вывести значение целевой функции и переменных.\n",
        "Иначе, задача не имеет решения.\n",
        "```\n",
        "if status == pywraplp.Solver.OPTIMAL:\n",
        "    print(\"Objective value =\", solver.Objective().Value())\n",
        "    print(\"x_1 =\", x_1.solution_value())\n",
        "    ....\n",
        "\n",
        "else:\n",
        "    print(\"The problem does not have an optimal solution.\")\n",
        "    \n",
        "```\n",
        "или в матричном виде\n",
        "```\n",
        "x_optimal = np.array([])\n",
        "for i in x:\n",
        "    x_optimal = np.append(x_optimal, i.solution_value())\n",
        "```"
      ]
    },
    {
      "cell_type": "markdown",
      "metadata": {
        "id": "_9Vwh6yzSVVS"
      },
      "source": [
        "### Пример"
      ]
    },
    {
      "cell_type": "markdown",
      "metadata": {
        "id": "kp2q6mkSSVVS"
      },
      "source": [
        "\n",
        "\\begin{align*}\n",
        "f(x)=29x_1+45x_2\\to \\max\\limits_{G},\\\\\n",
        " G=\\left\\{x_1-x_2-3x_3\\leq 5,\\quad\n",
        " 2x_1-3x_2-7x_3+3x_4\\geq 10,\\\\\n",
        " 2x_1+8x_2+x_3=60,\\quad\n",
        " 4x_1+4x_2+x_4=60,\\\\\\\n",
        " 0 \\leq x_1 \\leq  6,\\quad\n",
        " x_3 \\geq -3 \\right\\}\n",
        "\\end{align*}"
      ]
    },
    {
      "cell_type": "markdown",
      "metadata": {
        "id": "1iECRoXJSVVS"
      },
      "source": [
        "#### Скалярный случай"
      ]
    },
    {
      "cell_type": "code",
      "execution_count": null,
      "metadata": {
        "id": "fjQ3dCz0SVVT",
        "outputId": "f5a3a8d3-0189-4a93-85f5-9036a166e0df"
      },
      "outputs": [],
      "source": [
        "from ortools.linear_solver import pywraplp\n",
        "solver_id = \"GLOP\"\n",
        "solver = pywraplp.Solver.CreateSolver(solver_id)\n",
        "\n",
        "x_1 = solver.NumVar(0, 6, \"x1\")\n",
        "x_2 = solver.NumVar(- solver.infinity(), solver.infinity(), \"x2\")\n",
        "x_3 = solver.NumVar(-3, solver.infinity(), \"x3\")\n",
        "x_4 = solver.NumVar(- solver.infinity(), solver.infinity(), \"x4\")\n",
        "\n",
        "solver.Add(x_1 - x_2 - 3 * x_3 <= 5)\n",
        "solver.Add(2 * x_1 - 3 * x_2 - 7 * x_3 + 3 * x_4 >= 10)\n",
        "solver.Add(2 * x_1 + 8 * x_2 + x_3 == 60)\n",
        "solver.Add(4 * x_1 + 4 * x_2 + x_4 == 60)\n",
        "\n",
        "solver.Maximize(29 * x_1 + 45 * x_2)\n",
        "\n",
        "status = solver.Solve()\n",
        "\n",
        "if status == pywraplp.Solver.OPTIMAL:\n",
        "    print(\"Objective value =\", solver.Objective().Value())\n",
        "    print(\"x_1 =\", x_1.solution_value())\n",
        "    print(\"x_2 =\", x_2.solution_value())\n",
        "    print(\"x_3 =\", x_3.solution_value())\n",
        "    print(\"x_4 =\", x_4.solution_value())\n",
        "\n",
        "else:\n",
        "    print(\"The problem does not have an optimal solution.\")\n"
      ]
    },
    {
      "cell_type": "markdown",
      "metadata": {
        "id": "rZ0gTjMwSVVT"
      },
      "source": [
        "#### Матричный случай"
      ]
    },
    {
      "cell_type": "code",
      "execution_count": null,
      "metadata": {
        "id": "lUIdcdEPSVVT"
      },
      "outputs": [],
      "source": [
        "c = np.array([29.0, 45.0, 0.0, 0.0])\n",
        "a = np.array([\n",
        "    [1.0, -1.0, -3.0, 0.0],\n",
        "    [-2.0, 3.0, 7.0, -3.0],\n",
        "    [1.0,  0.0, 0.0,  0.0],\n",
        "    [-1.0, 0.0, 0.0,  0.0],\n",
        "    [0.0,  0.0, -1.0, 0.0]\n",
        "])\n",
        "b = np.array([5.0, -10.0, 6, 0, 3])\n",
        "a_eq = np.array([\n",
        "    [2.0, 8.0, 1.0, 0.0],\n",
        "    [4.0, 4.0, 0.0, 1.0]\n",
        "])\n",
        "b_eq = np.array([60.0, 60.0])"
      ]
    },
    {
      "cell_type": "code",
      "execution_count": 22,
      "metadata": {
        "id": "KF0Uc4-dSVVT",
        "outputId": "f5b809b8-7e6e-4b7c-dd7b-28f4e586a045"
      },
      "outputs": [
        {
          "name": "stdout",
          "output_type": "stream",
          "text": [
            "Objective value = 85.99999999999999\n",
            "[-4. 94.]\n"
          ]
        }
      ],
      "source": [
        "from ortools.linear_solver import pywraplp\n",
        "solver_id = \"GLOP\"\n",
        "solver = pywraplp.Solver.CreateSolver(solver_id)\n",
        "\n",
        "x = np.array([[0.0, 0.0],\n",
        "              [10.0, 10.0]])\n",
        "\n",
        "\"\"\"np.array([[0.0, 0.0, 0.0, 0.0, 0.0, 0.0, 0.0, 0.0, 0.0, 0.0, 0.0, 0.0],\n",
        "        [70.0, 70.0, 70.0, 70.0, 70.0, 70.0, 70.0, 70.0, 70.0, 70.0, 70.0, 70.0]])\"\"\"\n",
        "\n",
        "c = np.array([2.0, 1.0])\n",
        "\n",
        "\"\"\"np.array([3.0, 20.0, -2.0, 6.0, 13.0, 12.0, 32.0, 7.0, 21.0, 2.0, 0.0, 7.0])\n",
        "\"\"\"\n",
        "a = np.array([[1.0, 1.0]])\n",
        "\n",
        "\"\"\"np.array([[1.0, 3.0, 8.0, 6.0, 0.0, 0.0, 0.0, 0.0, 0.0, 0.0, 0.0, 0.0],\n",
        "        [0.0, 0.0, 0.0, 0.0, 2.0, 5.0, 13.0, 1.0, 0.0, 0.0, 0.0, 0.0],\n",
        "        [0.0, 0.0, 0.0, 0.0, 0.0, 0.0, 0.0, 0.0, 6.0, -2.0, 2.0, 9.0]])\"\"\"\n",
        "        \n",
        "b = np.array([90.0])\n",
        "\n",
        "\"\"\"np.array([290.0,430.0,511.0] )\"\"\"\n",
        "\n",
        "a_eq = np.array([[6.0, 1.0]])\n",
        "\n",
        "\"\"\"np.array([[1.0, 1.0, 1.0, 1.0, 0.0, 0.0, 0.0, 0.0, 0.0, 0.0, 0.0, 0.0],\n",
        "         [0.0, 0.0, 0.0, 0.0, 1.0, 1.0, 1.0, 1.0, 0.0, 0.0, 0.0, 0.0]])\n",
        "       #  [0.0, 0.0, 0.0, 0.0, 0.0, 0.0, 0.0, 0.0, 1.0, 1.0, 1.0, 1.0]]\"\"\"\n",
        "b_eq = np.array([70.0])\n",
        "\"\"\"np.array([191.0, 250.0])#, 601.0]\"\"\"\n",
        "\n",
        "n = len(c)\n",
        "x_string = ['x'+str(i) for i in range(1, n+1)]\n",
        "x = [solver.NumVar(-solver.infinity(), solver.infinity(), i)\n",
        "     for i in x_string]\n",
        "\n",
        "for r in range(len(b_eq)):\n",
        "    solver.Add(sum(a_eq[r][u] * x[u]\n",
        "                   for u in range(n)) == b_eq[r])\n",
        "\n",
        "for r in range(len(b)):\n",
        "    solver.Add(sum(a[r][u] * x[u]\n",
        "                   for u in range(n)) <= b[r])\n",
        "\n",
        "solver.Maximize(sum(c[i] * x[i]\n",
        "                    for i in range(n)))\n",
        "\n",
        "status = solver.Solve()\n",
        "\n",
        "if status == pywraplp.Solver.OPTIMAL:\n",
        "    print(\"Objective value =\", solver.Objective().Value())\n",
        "    x_optimal = np.array([])\n",
        "    for i in x:\n",
        "        x_optimal = np.append(x_optimal, i.solution_value())\n",
        "    print(x_optimal)\n",
        "else:\n",
        "    print(\"The problem does not have an optimal solution.\")"
      ]
    },
    {
      "cell_type": "markdown",
      "metadata": {
        "id": "bcla7SSWSVVT"
      },
      "source": [
        "### Задание 2"
      ]
    },
    {
      "cell_type": "markdown",
      "metadata": {
        "id": "Igyq2m_rSVVT"
      },
      "source": [
        "1. С помощью OR-Tools найти решение задачи линейного программирования\n",
        "\n",
        "\n",
        "\\begin{align*}\n",
        "f(x)=x_1+x_2+x_3-x_4+x_5\\to \\max\\limits_{G},\\\\\n",
        " G=\\left\\{\n",
        " 10 x_1 -    x_2 +  x_3 -    x_4 + x_5 \\leq 156,\\\\\n",
        " 7  x_1 + 12 x_2 + 3x_3 + 13 x_4 + 21 x_5 \\ge 101,\\\\\n",
        " 5  x_1 +   2x_2 - 4x_3 +   5x_4 + 34 x_5 \\leq 256,\\\\\n",
        " x_1 +   4x_2 + 2x_3 +   1x_4 + 12 x_5 = 350\\\\\n",
        " 0 \\leq x_1 \\leq  16,\\\\\n",
        " 0 \\leq x_2 \\leq  20,\\\\\n",
        " -10 \\leq x_3 \\leq  10,\\\\\n",
        " 0 \\leq x_4 \\leq  +\\infty,\\\\\n",
        "  -\\infty \\leq x_5 \\leq  +\\infty\n",
        "  \\right\\}\n",
        "\\end{align*}\n",
        "\n",
        "2. Если задача не имеет оптимального плана, то выяснить причину отсутсвия оптимального плана.\n",
        "Например, найти ограничение, из-за которого $G = \\varnothing$.\n",
        "\n",
        "Найти минимальное значение правой части при котором данное $G \\neq \\varnothing$ для ограничений неравенств типа \"$\\le$\" или максимальное значение правой части при котором данное $G \\neq \\varnothing$ для ограничений неравенств типа \"$\\ge$\" или любое значение правой части при котором данное $G \\neq \\varnothing$ для ограничений равенств.\n",
        "\n",
        "\n",
        "**Бонусные баллы**\n",
        " - если каждый этап решения задачи (построение перемеменных, построение ограничений, построение целевой функции, проверка решения на оптимальность, вывод решения и др) будет реализован в виде отдельного метода."
      ]
    },
    {
      "cell_type": "code",
      "execution_count": 28,
      "metadata": {
        "id": "tu3nsHLfSVVU"
      },
      "outputs": [
        {
          "name": "stdout",
          "output_type": "stream",
          "text": [
            "The problem does not have an optimal solution.\n"
          ]
        }
      ],
      "source": [
        "\n",
        "\"\"\"from ortools.linear_solver import pywraplp\n",
        "solver = pywraplp.Solver.CreateSolver(\"GLOP\")\n",
        "\n",
        "class Probem:\n",
        "    solver = pywraplp.Solver.CreateSolver(\"GLOP\")\n",
        "    len_c = 0\n",
        "    obj = []\n",
        "    vars = []\n",
        "    cons = []\n",
        "    res = []\n",
        "    cons_eq = []\n",
        "    res_eq = []\n",
        "    status = \"\"\n",
        "    x = []\n",
        "    def add_obj(self, obj):\n",
        "        self.obj = obj.copy()\n",
        "        self.len_c = len(obj)\n",
        "    \n",
        "    def add_vars(self, var):\n",
        "        self.vars = var.copy()\n",
        "        \n",
        "    def add_all_cons(self, constr, res, constr_eq, res_eq):\n",
        "        self.cons = constr.copy()\n",
        "        self.res = res.copy()\n",
        "        self.cons_eq = constr_eq.copy()\n",
        "        self.res_eq = res_eq.copy()\n",
        "        \n",
        "        \n",
        "    def solve(self):\n",
        "        # объявление переменных\n",
        "        x_string = ['x'+str(i) for i in range(1, self.len_c+1)]\n",
        "        for i in range(self.len_c):\n",
        "            self.x.append(self.solver.NumVar(self.vars[0][i], self.vars[1][i], str(x_string[i])))\n",
        "        \n",
        "        # объявление ограничений\n",
        "        for r in range(len(self.res_eq)):\n",
        "            self.solver.Add(sum(self.cons_eq[r][u] * x[u]\n",
        "                   for u in range(self.len_c-1)) == self.res_eq[r])\n",
        "\n",
        "        for r in range(len(self.res)):\n",
        "            self.solver.Add(sum(self.cons[r][u] * x[u]\n",
        "                   for u in range(self.len_c-1)) <= self.res[r])\n",
        "            \n",
        "        # объявление целевой функции\n",
        "        self.solver.Maximize(sum(self.obj[i]* x[i]\n",
        "                    for i in range(self.len_c-1)))\n",
        "        \n",
        "        # включаем\n",
        "        status = self.solver.Solve()\n",
        "        \n",
        "        print(len(self.res_eq), self.len_c, self.obj, self.cons, self.cons_eq, self.res, self.res_eq, self.vars)\n",
        "        if status == pywraplp.Solver.OPTIMAL:\n",
        "            print(\"Objective value =\", self.solver.Objective().Value())\n",
        "            x_optimal = []\n",
        "            for i in range(self.len_c):\n",
        "                x_optimal.append(self.x[i].solution_value())\n",
        "            print(x_optimal)\n",
        "        else:\n",
        "            print(\"The problem does not have an optimal solution.\")\n",
        "            if status == pywraplp.Solver.INFEASIBLE:\n",
        "                print(\"The problem is infeasible.\")\n",
        "                # Проверяем каждое ограничение по отдельности\n",
        "                for i in range(len(self.cons)):\n",
        "                    # Создаем новый решатель для проверки\n",
        "                    temp_solver = pywraplp.Solver.CreateSolver(\"GLOP\")\n",
        "                    temp_x = [temp_solver.NumVar(self.vars[0][j], self.vars[1][j], f'x{j+1}') for j in range(self.len_c-1)]\n",
        "                    \n",
        "                    # Добавляем все ограничения, кроме текущего\n",
        "                    for r in range(len(self.res_eq)):\n",
        "                        temp_solver.Add(sum(self.cons_eq[r][u] for u in range(self.len_c-1)) == self.res_eq[r])\n",
        "                    \n",
        "                    for r in range(len(self.res)):\n",
        "                        if r != i:  # пропускаем текущее ограничение\n",
        "                            temp_solver.Add(sum(self.cons[r][u] for u in range(self.len_c-1)) <= self.res[r])\n",
        "\n",
        "                    # Добавляем целевую функцию\n",
        "                    temp_solver.Maximize(sum(self.obj[j] * temp_x[j] for j in range(self.len_c-1)))\n",
        "\n",
        "                    # Решаем временную задачу\n",
        "                    temp_status = temp_solver.Solve()\n",
        "                    if temp_status == pywraplp.Solver.OPTIMAL:\n",
        "                        print(f\"Constraint {i} is causing infeasibility: {self.cons[i]} <= {self.res[i]}\")\n",
        "        \n",
        "\n",
        "vars = [[0,16], [0,20], [-10,10], [0,solver.infinity()], [-solver.infinity(), solver.infinity()]]\n",
        "\n",
        "obj = np.array([1.0, 1.0, 1.0, -1.0, 1.0])\n",
        "\n",
        "cons = np.array([[10.0, -1.0, 1.0, -1.0, 1.0],\n",
        "        [-7.0, -12.0, -3.0, -13.0, -21.0],\n",
        "        [5.0,  2.0, -4.0, 5.0, 34.0]])\n",
        "res = np.array([156.0, -101.0, 256.0] )\n",
        "\n",
        "cons_eq = np.array([[1.0, 4.0, 2.0, 1.0, 12.0]])\n",
        "res_eq = np.array([350.0])\n",
        "#cons_eq = [[0,0,0,0,0]]\n",
        "#res_eq = [[0]]\n",
        "\n",
        "\n",
        "Problema = Probem()\n",
        "Problema.add_obj(obj)\n",
        "Problema.add_all_cons(cons, res, cons_eq, res_eq)\n",
        "Problema.add_vars(vars)\n",
        "Problema.solve()\n",
        "\n",
        "\n",
        "\n",
        "\n",
        "\n",
        "\n",
        "\n",
        "\n",
        "\n",
        "\n",
        "\n",
        "\n",
        "x = np.array([[0.0, 0.0, -10.0, 0.0, 3],\n",
        "        [16.0, 20.0, 10.0, 3, 3]])\n",
        "\n",
        "c = np.array([1.0, 1.0, 1.0, -1.0, 1.0])\n",
        "\n",
        "a = np.array([[10.0, -1.0, 1.0, -1.0, 1.0],\n",
        "        [-7.0, -12.0, -3.0, -13.0, -21.0],\n",
        "        [5.0,  2.0, -4.0, 5.0, 34.0]])\n",
        "b = np.array([156.0, -101.0, 256.0] )\n",
        "\n",
        "a_eq = np.array([[1.0, 4.0, 2.0, 1.0, 12.0]])\n",
        "b_eq = np.array([350.0])\n",
        "\n",
        "\n",
        "\n",
        "\n",
        "n = len(c)\n",
        "x_string = ['x'+str(i) for i in range(1, n+1)]\n",
        "x = [[0,16], [0,20], [-10,10], [0,solver.infinity()], [-solver.infinity(), solver.infinity()]]\n",
        "\n",
        "for r in range(len(b_eq)):\n",
        "    solver.Add(sum(a_eq[r][u] * x[u]\n",
        "                   for u in range(n)) == b_eq[r])\n",
        "\n",
        "for r in range(len(b)):\n",
        "    solver.Add(sum(a[r][u] * x[u]\n",
        "                   for u in range(n)) <= b[r])\n",
        "\n",
        "solver.Maximize(sum(c[i] * x[i]\n",
        "                    for i in range(n)))\n",
        "\n",
        "status = solver.Solve()\n",
        "\n",
        "\n",
        "if status == pywraplp.Solver.OPTIMAL:\n",
        "    print(\"Objective value =\", solver.Objective().Value())\n",
        "    x_optimal = np.array([])\n",
        "    for i in x:\n",
        "        x_optimal = np.append(x_optimal, i.solution_value())\n",
        "    print(x_optimal)\n",
        "else:\n",
        "    print(\"The problem does not have an optimal solution.\")\n",
        "    \"\"\"\n",
        "    \n",
        "def obyavlenie_peremennih(c, vars):\n",
        "    global solver\n",
        "    n = len(c)\n",
        "    x_string= []\n",
        "    x=[]\n",
        "    for i in range(1,n+1):\n",
        "        x_string.append('x'+str(i))\n",
        "        new_x = solver.NumVar(vars[i-1][0], vars[i-1][1], x_string[i-1])\n",
        "        x.append(new_x)\n",
        "    return x\n",
        "    \n",
        "\n",
        "def obyavlenie_ogranicheniy(a_ub,b_ub,a_eq,b_eq):\n",
        "    global solver,x\n",
        "    n=len(x)\n",
        "    for r in range(len(b_ub)):\n",
        "        solver.Add(sum(a_ub[r][u] * x[u]\n",
        "                    for u in range(n)) <= b_ub[r])\n",
        "    for r in range(len(b_eq)):\n",
        "        solver.Add(sum(a_eq[r][u] * x[u]\n",
        "                    for u in range(n)) == b_eq[r])\n",
        "    \n",
        "def ort_maximize(c):\n",
        "    global solver,x\n",
        "    n=len(x)\n",
        "    solver.Maximize(sum(c[i] * x[i]\n",
        "                    for i in range(n)))\n",
        "\n",
        "def vivod_rezultata():\n",
        "    global solver,x\n",
        "    status = solver.Solve()\n",
        "    if status == pywraplp.Solver.OPTIMAL:\n",
        "        print(\"Objective value =\", solver.Objective().Value())\n",
        "        x_optimal = np.array([])\n",
        "        for i in x:\n",
        "            x_optimal = np.append(x_optimal, i.solution_value())\n",
        "        print(x_optimal)\n",
        "        return x_optimal\n",
        "    else:\n",
        "        print(\"The problem does not have an optimal solution.\")\n",
        "        \n",
        "solver = pywraplp.Solver.CreateSolver(\"GLOP\")\n",
        "\n",
        "vars = [[0,16], [0,20], [-10,10], [0,solver.infinity()], [-solver.infinity(), solver.infinity()]]\n",
        "\n",
        "c = np.array([1.0, 1.0, 1.0, -1.0, 1.0])\n",
        "\n",
        "a = np.array([[10.0, -1.0, 1.0, -1.0, 1.0],\n",
        "        [-7.0, -12.0, -3.0, -13.0, -21.0],\n",
        "        [5.0,  2.0, -4.0, 5.0, 34.0]])\n",
        "b = np.array([156.0, -101.0, 256.0] )\n",
        "\n",
        "a_eq = np.array([[1.0, 4.0, 2.0, 1.0, 12.0]])\n",
        "b_eq = np.array([350.0])\n",
        "\n",
        "\n",
        "x= obyavlenie_peremennih(c, vars)\n",
        "obyavlenie_ogranicheniy(a,b,a_eq,b_eq)\n",
        "ort_maximize(c)\n",
        "vivod_rezultata()"
      ]
    },
    {
      "cell_type": "markdown",
      "metadata": {
        "id": "E2mjEzIJSVVU"
      },
      "source": [
        "### Задание 3"
      ]
    },
    {
      "cell_type": "markdown",
      "metadata": {
        "id": "ubiMV9bESVVU"
      },
      "source": [
        "1. С помощью OR-Tools найти решение задачи линейного программирования\n",
        "\n",
        "\\begin{align}\n",
        "f(x)=3 x_{1} + 20 x_{2}-2 x_{3} + 6 x_{4} + \\\\\n",
        "+13 x_{5} + 12 x_{6}+ 32 x_{7} + 7 x_{8} + \\\\\n",
        "+21 x_{9} + 2 x_{10}+ 7 x_{12} \\to \\max\\limits_{G},\\\\\n",
        "G=\\left\\{ 1x_{1} + 3x_{2} + 8x_{3} + 6x_{4} \\le 290,\\\\\n",
        "2x_{5} + 5x_{6} + 13x_{7} + x_{8} \\le 430, \\\\\n",
        "6x_{9} - 2x_{10} + 2x_{11} + 9x_{12} \\le 511, \\\\\n",
        "x_{1} + x_{2} + x_{3} + x_{4} = 191,\\\\\n",
        "x_{5} + x_{6} + x_{7} + x_{8} = 250, \\\\\n",
        "x_{9} + x_{10} + x_{11} + x_{12} = 601, \\\\\n",
        "x_{ij} \\ge 0, i=\\overline{0,3} , j=\\overline{0,4} ,\\\\\n",
        "x_{ij} \\le 70, i=\\overline{0,3} , j=\\overline{0,4}\\right\\}\n",
        "\\end{align}\n",
        "\n",
        "\n",
        "2. Если задача не имеет оптимального плана, то выяснить причину отсутсвия оптимального плана.\n",
        "Например, найти ограничение, из-за которого $G = \\varnothing$.\n",
        "\n",
        "Найти минимальное значение правой части при котором данное $G \\neq \\varnothing$ для ограничений неравенств типа \"$\\le$\" или максимальное значение правой части при котором данное $G \\neq \\varnothing$ для ограничений неравенств типа \"$\\ge$\" или любое значение правой части при котором данное $G \\neq \\varnothing$ для ограничений равенств.\n",
        "\n",
        "\n",
        "**Бонусные баллы**\n",
        " - если каждый этап решения задачи (построение перемеменных, построение ограничений, построение целевой функции, проверка решения на оптимальность, вывод решения и др) будет реализован в виде отдельного метода."
      ]
    },
    {
      "cell_type": "code",
      "execution_count": 31,
      "metadata": {
        "id": "0XA2AKhCSVVU"
      },
      "outputs": [
        {
          "name": "stdout",
          "output_type": "stream",
          "text": [
            "The problem does not have an optimal solution.\n"
          ]
        }
      ],
      "source": [
        "from ortools.linear_solver import pywraplp\n",
        "\n",
        "\"\"\"solver = pywraplp.Solver.CreateSolver(\"GLOP\")\n",
        "\n",
        "class Probem:\n",
        "    solver = pywraplp.Solver.CreateSolver(\"GLOP\")\n",
        "    len_c = 0\n",
        "    obj = []\n",
        "    vars = []\n",
        "    cons = []\n",
        "    res = []\n",
        "    cons_eq = []\n",
        "    res_eq = []\n",
        "    status = \"\"\n",
        "    x = []\n",
        "    def add_obj(self, obj):\n",
        "        self.obj = obj.copy()\n",
        "        self.len_c = len(obj)\n",
        "    \n",
        "    def add_vars(self, var):\n",
        "        self.vars = var.copy()\n",
        "        \n",
        "    def add_all_cons(self, constr, res, constr_eq, res_eq):\n",
        "        self.cons = constr.copy()\n",
        "        self.res = res.copy()\n",
        "        self.cons_eq = constr_eq.copy()\n",
        "        self.res_eq = res_eq.copy()\n",
        "        \n",
        "        \n",
        "    def solve(self):\n",
        "        \n",
        "\n",
        "\n",
        "        f(x)=3 x_{1} + 20 x_{2}-2 x_{3} + 6 x_{4} +13 x_{5} + 12 x_{6}+ 32 x_{7} + 7 x_{8} +21 x_{9} + 2 x_{10}+ 7 x_{12} \\to \\max\\limits_{G},\\\\\n",
        "G=\\left\\{ 1x_{1} + 3x_{2} + 8x_{3} + 6x_{4} \\le 290,\\\\\n",
        "    \n",
        "2x_{5} + 5x_{6} + 13x_{7} + x_{8} \\le 430, \\\\\n",
        "    \n",
        "6x_{9} - 2x_{10} + 2x_{11} + 9x_{12} \\le 511, \\\\\n",
        "    \n",
        "    \n",
        "x_{1} + x_{2} + x_{3} + x_{4} = 191,\\\\\n",
        "x_{5} + x_{6} + x_{7} + x_{8} = 250, \\\\\n",
        "x_{9} + x_{10} + x_{11} + x_{12} = 601, \\\\\n",
        "    \n",
        "x_{ij} \\ge 0, i=\\overline{0,3} , j=\\overline{0,4} ,\\\\\n",
        "x_{ij} \\le 70, i=\\overline{0,3} , j=\\overline{0,4}\\right\\}\n",
        "\\end{align*}\n",
        "\n",
        "vars = np.array([[0.0, 0.0, 0.0, 0.0, 0.0, 0.0, 0.0, 0.0, 0.0, 0.0, 0.0, 0.0],\n",
        "        [70.0, 70.0, 70.0, 70.0, 70.0, 70.0, 70.0, 70.0, 70.0, 70.0, 70.0, 70.0]])\n",
        "\n",
        "obj = np.array([3.0, 20.0, -2.0, 6.0, 13.0, 12.0, 32.0, 7.0, 21.0, 2.0, 0.0, 7.0])\n",
        "\n",
        "cons = np.array([[1.0, 3.0, 8.0, 6.0, 0.0, 0.0, 0.0, 0.0, 0.0, 0.0, 0.0, 0.0],\n",
        "        [0.0, 0.0, 0.0, 0.0, 2.0, 5.0, 13.0, 1.0, 0.0, 0.0, 0.0, 0.0],\n",
        "        [0.0, 0.0, 0.0, 0.0, 0.0, 0.0, 0.0, 0.0, 6.0, -2.0, 2.0, 9.0]])\n",
        "res = np.array([290.0,430.0,511.0] )\n",
        "\n",
        "cons_eq = np.array([ [1.0, 1.0, 1.0, 1.0, 0.0, 0.0, 0.0, 0.0, 0.0, 0.0, 0.0, 0.0],\n",
        "         [0.0, 0.0, 0.0, 0.0, 1.0, 1.0, 1.0, 1.0, 0.0, 0.0, 0.0, 0.0]])\n",
        "        # [0.0, 0.0, 0.0, 0.0, 0.0, 0.0, 0.0, 0.0, 1.0, 1.0, 1.0, 1.0]]\n",
        "res_eq = [191.0, 250.0]#, 601.0]\n",
        "#cons_eq = [[0,0,0,0,0]]\n",
        "#res_eq = [[0]]\n",
        "\n",
        "\n",
        "Problema = Probem()\n",
        "Problema.add_obj(obj)\n",
        "Problema.add_all_cons(cons, res, cons_eq, res_eq)\n",
        "Problema.add_vars(vars)\n",
        "Problema.solve()\n",
        "\n",
        "\n",
        "\n",
        "\n",
        "\n",
        "\n",
        "\n",
        "\n",
        "\n",
        "x = np.array([[0.0, 0.0, 0.0, 0.0, 0.0, 0.0, 0.0, 0.0, 0.0, 0.0, 0.0, 0.0],\n",
        "        [70.0, 70.0, 70.0, 70.0, 70.0, 70.0, 70.0, 70.0, 70.0, 70.0, 70.0, 70.0]])\n",
        "\n",
        "c = np.array([3.0, 20.0, -2.0, 6.0, 13.0, 12.0, 32.0, 7.0, 21.0, 2.0, 0.0, 7.0])\n",
        "\n",
        "a = np.array([[1.0, 3.0, 8.0, 6.0, 0.0, 0.0, 0.0, 0.0, 0.0, 0.0, 0.0, 0.0],\n",
        "        [0.0, 0.0, 0.0, 0.0, 2.0, 5.0, 13.0, 1.0, 0.0, 0.0, 0.0, 0.0],\n",
        "        [0.0, 0.0, 0.0, 0.0, 0.0, 0.0, 0.0, 0.0, 6.0, -2.0, 2.0, 9.0]])\n",
        "b = np.array([290.0,430.0,511.0] )\n",
        "\n",
        "a_eq = np.array([ [1.0, 1.0, 1.0, 1.0, 0.0, 0.0, 0.0, 0.0, 0.0, 0.0, 0.0, 0.0],\n",
        "         [0.0, 0.0, 0.0, 0.0, 1.0, 1.0, 1.0, 1.0, 0.0, 0.0, 0.0, 0.0]])\n",
        "       #  [0.0, 0.0, 0.0, 0.0, 0.0, 0.0, 0.0, 0.0, 1.0, 1.0, 1.0, 1.0]]\n",
        "b_eq = np.array([191.0, 250.0])#, 601.0]\n",
        "\n",
        "\n",
        "\n",
        "n = len(c)\n",
        "x_string = ['x'+str(i) for i in range(1, n+1)]\n",
        "x = [solver.NumVar(-solver.infinity(), solver.infinity(), i)\n",
        "     for i in x_string]\n",
        "\n",
        "for r in range(len(b_eq)):\n",
        "    solver.Add(sum(a_eq[r][u] * x[u]\n",
        "                   for u in range(n)) == b_eq[r])\n",
        "\n",
        "for r in range(len(b)):\n",
        "    solver.Add(sum(a[r][u] * x[u]\n",
        "                   for u in range(n)) <= b[r])\n",
        "\n",
        "solver.Maximize(sum(c[i] * x[i]\n",
        "                    for i in range(n)))\n",
        "\n",
        "status = solver.Solve()\n",
        "\n",
        "\n",
        "if status == pywraplp.Solver.OPTIMAL:\n",
        "    print(\"Objective value =\", solver.Objective().Value())\n",
        "    x_optimal = np.array([])\n",
        "    for i in x:\n",
        "        x_optimal = np.append(x_optimal, i.solution_value())\n",
        "    print(x_optimal)\n",
        "else:\n",
        "    print(\"The problem does not have an optimal solution.\")\"\"\"\n",
        "    \n",
        "def obyavlenie_peremennih(c, vars):\n",
        "    global solver\n",
        "    n = len(c)\n",
        "    x_string= []\n",
        "    x=[]\n",
        "    for i in range(1,n+1):\n",
        "        x_string.append('x'+str(i))\n",
        "        new_x = solver.NumVar(vars[i-1][0], vars[i-1][1], x_string[i-1])\n",
        "        x.append(new_x)\n",
        "    return x\n",
        "    \n",
        "\n",
        "def obyavlenie_ogranicheniy(a_ub,b_ub,a_eq,b_eq):\n",
        "    global solver,x\n",
        "    n=len(x)\n",
        "    for r in range(len(b_ub)):\n",
        "        solver.Add(sum(a_ub[r][u] * x[u]\n",
        "                    for u in range(n)) <= b_ub[r])\n",
        "    for r in range(len(b_eq)):\n",
        "        solver.Add(sum(a_eq[r][u] * x[u]\n",
        "                    for u in range(n)) == b_eq[r])\n",
        "    \n",
        "def ort_maximize(c):\n",
        "    global solver,x\n",
        "    n=len(x)\n",
        "    solver.Maximize(sum(c[i] * x[i]\n",
        "                    for i in range(n)))\n",
        "\n",
        "def vivod_rezultata():\n",
        "    global solver,x\n",
        "    status = solver.Solve()\n",
        "    if status == pywraplp.Solver.OPTIMAL:\n",
        "        print(\"Objective value =\", solver.Objective().Value())\n",
        "        x_optimal = np.array([])\n",
        "        for i in x:\n",
        "            x_optimal = np.append(x_optimal, i.solution_value())\n",
        "        print(x_optimal)\n",
        "        return x_optimal\n",
        "    else:\n",
        "        print(\"The problem does not have an optimal solution.\")\n",
        "        \n",
        "solver = pywraplp.Solver.CreateSolver(\"GLOP\")\n",
        "\n",
        "vars = np.array([[0.0,70.0] for i in range(12)])\n",
        "\n",
        "c = np.array([3.0, 20.0, -2.0, 6.0, 13.0, 12.0, 32.0, 7.0, 21.0, 2.0, 0.0, 7.0])\n",
        "\n",
        "a = np.array([[1.0, 3.0, 8.0, 6.0, 0.0, 0.0, 0.0, 0.0, 0.0, 0.0, 0.0, 0.0],\n",
        "        [0.0, 0.0, 0.0, 0.0, 2.0, 5.0, 13.0, 1.0, 0.0, 0.0, 0.0, 0.0],\n",
        "        [0.0, 0.0, 0.0, 0.0, 0.0, 0.0, 0.0, 0.0, 6.0, -2.0, 2.0, 9.0]])\n",
        "b = np.array([290.0,430.0,511.0] )\n",
        "\n",
        "a_eq = np.array([ [1.0, 1.0, 1.0, 1.0, 0.0, 0.0, 0.0, 0.0, 0.0, 0.0, 0.0, 0.0],\n",
        "        [0.0, 0.0, 0.0, 0.0, 1.0, 1.0, 1.0, 1.0, 0.0, 0.0, 0.0, 0.0],\n",
        "        [0.0, 0.0, 0.0, 0.0, 0.0, 0.0, 0.0, 0.0, 1.0, 1.0, 1.0, 1.0]])\n",
        "b_eq = [191.0, 250.0, 601.0]\n",
        "\n",
        "\n",
        "x= obyavlenie_peremennih(c, vars)\n",
        "obyavlenie_ogranicheniy(a,b,a_eq,b_eq)\n",
        "ort_maximize(c)\n",
        "vivod_rezultata()"
      ]
    },
    {
      "cell_type": "markdown",
      "metadata": {
        "id": "4Hx0j5QBYD3l"
      },
      "source": [
        "##PULP"
      ]
    },
    {
      "cell_type": "markdown",
      "metadata": {
        "id": "2cVBLjgUbn-k"
      },
      "source": [
        "##Основные шаги в решении задачи линейного программирования с использованием PULP."
      ]
    },
    {
      "cell_type": "markdown",
      "metadata": {
        "id": "m9QW8_O9duMB"
      },
      "source": [
        "###0. Установка библиотек."
      ]
    },
    {
      "cell_type": "markdown",
      "metadata": {
        "id": "1Nb0eoC3d7Ba"
      },
      "source": [
        "\n",
        "```\n",
        "pip install pulp\n",
        "```"
      ]
    },
    {
      "cell_type": "markdown",
      "metadata": {
        "id": "hMvrAzy3eHGp"
      },
      "source": [
        "###1. Импорт необходимых библиотек."
      ]
    },
    {
      "cell_type": "markdown",
      "metadata": {
        "id": "cSB60SBIeIyI"
      },
      "source": [
        "\n",
        "```\n",
        "import pulp\n",
        "```"
      ]
    },
    {
      "cell_type": "markdown",
      "metadata": {
        "id": "dR7gpqa_eI__"
      },
      "source": [
        "###2. Объявление солвера."
      ]
    },
    {
      "cell_type": "markdown",
      "metadata": {
        "id": "heHzmPgveUsr"
      },
      "source": [
        "\n",
        "Если задача на максимум - pulp.LpMaximize, если на минимум - pulp.LpMinimize.\n",
        "\n",
        "\n",
        "```\n",
        "solver = pulp.LpProblem(sense=pulp.LpMaximize)\n",
        "```"
      ]
    },
    {
      "cell_type": "markdown",
      "metadata": {
        "id": "WmWdh7S5ek7s"
      },
      "source": [
        "###3. Создание переменных."
      ]
    },
    {
      "cell_type": "markdown",
      "metadata": {
        "id": "62mmKYFHfKQm"
      },
      "source": [
        "\n",
        "\n",
        "```\n",
        "x = {i: pulp.LpVariable(name=f\"x{i}\",\n",
        "    lowBound=min_value, upBound=max_value)\n",
        "        for i in range(len(n))}\n",
        "```\n",
        "где\n",
        "\n",
        "    min_value - минимальное возможное значение переменной,\n",
        "    max_value - максимальное возможное значение переменной,\n",
        "    x{i} - имя переменной.\n",
        "\n"
      ]
    },
    {
      "cell_type": "code",
      "execution_count": null,
      "metadata": {
        "colab": {
          "base_uri": "https://localhost:8080/"
        },
        "id": "2sdA7MWDcjGx",
        "outputId": "5a9ce6d8-e4d0-47e0-d390-8316d7f6943c"
      },
      "outputs": [],
      "source": []
    },
    {
      "cell_type": "markdown",
      "metadata": {
        "id": "iKW-LPBogxnV"
      },
      "source": [
        "###4. Создание ограничений."
      ]
    },
    {
      "cell_type": "markdown",
      "metadata": {
        "id": "7Hx6sm0YgZIW"
      },
      "source": [
        "Создание ограничений неравенств\n",
        "\n",
        "```\n",
        "for u in range(len(b)):\n",
        "    solver += pulp.lpSum(a[u][r] * x[r]\n",
        "                         for r in range(len(x))) <= b[u]\n",
        "```\n",
        "\n",
        "Создание ограничений равенств\n",
        "\n",
        "```\n",
        "for u in range(len(b_eq)):\n",
        "  solver += pulp.lpSum(a_eq[u][r] * x[r]\n",
        "                      for r in range(len(x))) == b_eq[u]\n",
        "\n",
        "```"
      ]
    },
    {
      "cell_type": "markdown",
      "metadata": {
        "id": "qvZAApwNg8RR"
      },
      "source": [
        "###5. Создание целевой функции"
      ]
    },
    {
      "cell_type": "markdown",
      "metadata": {
        "id": "CQ-LdrSjhA4h"
      },
      "source": [
        "\n",
        "```\n",
        "solver += (pulp.lpSum(c[i] * x[i]\n",
        "          for i in range(len(x))))\n",
        "```"
      ]
    },
    {
      "cell_type": "markdown",
      "metadata": {
        "id": "99BStIYJhWgs"
      },
      "source": [
        "###6. Вызов солвера."
      ]
    },
    {
      "cell_type": "markdown",
      "metadata": {
        "id": "AWVbceJwhXjn"
      },
      "source": [
        "\n",
        "\n",
        "```\n",
        "solver.solve()\n",
        "```\n",
        "\n"
      ]
    },
    {
      "cell_type": "markdown",
      "metadata": {
        "id": "7XY4hX_bhlx2"
      },
      "source": [
        "###7. Отображение результата."
      ]
    },
    {
      "cell_type": "markdown",
      "metadata": {
        "id": "hK6wiz__hscJ"
      },
      "source": [
        "\n",
        "Если статус солвера сопадает с оптимальным, то  решение найдено. Можно вывести значение целевой функции и переменных.\n",
        "Иначе, задача не имеет решения.\n",
        "\n",
        "```\n",
        "if solver.solve():\n",
        "  x_optimal = np.array([])\n",
        "  for variable in solver.variables():\n",
        "      x_optimal = np.append(x_optimal, variable.varValue)\n",
        "  print(x_optimal, np.sum(c * x_optimal))\n",
        "else:\n",
        "  print('The solver could not find an optimal solution.')\n",
        "\n",
        "```"
      ]
    },
    {
      "cell_type": "code",
      "execution_count": null,
      "metadata": {
        "id": "dUpwpBpMcefz"
      },
      "outputs": [],
      "source": [
        "import pulp\n"
      ]
    },
    {
      "cell_type": "code",
      "execution_count": null,
      "metadata": {
        "id": "bsbbffyOc0S2"
      },
      "outputs": [],
      "source": [
        "c = np.array([29.0, 45.0, 0.0, 0.0])\n",
        "a = np.array([\n",
        "    [1.0, -1.0, -3.0, 0.0],\n",
        "    [-2.0, 3.0, 7.0, -3.0],\n",
        "    [1.0,  0.0, 0.0,  0.0],\n",
        "    [-1.0, 0.0, 0.0,  0.0],\n",
        "    [0.0,  0.0, -1.0, 0.0]\n",
        "])\n",
        "b = np.array([5.0, -10.0, 6, 0, 3])\n",
        "a_eq = np.array([\n",
        "    [2.0, 8.0, 1.0, 0.0],\n",
        "    [4.0, 4.0, 0.0, 1.0]\n",
        "])\n",
        "b_eq = np.array([60.0, 60.0])"
      ]
    },
    {
      "cell_type": "code",
      "execution_count": null,
      "metadata": {
        "colab": {
          "base_uri": "https://localhost:8080/"
        },
        "id": "ckLke_wTbpi6",
        "outputId": "458e9cad-bd42-4804-fb00-d99de0eb0b8b"
      },
      "outputs": [],
      "source": [
        "\n",
        "solver = pulp.LpProblem(sense=pulp.LpMaximize)\n",
        "x = {i: pulp.LpVariable(name=f\"x{i}\")\n",
        "for i in range(len(c))}\n",
        "\n",
        "for u in range(len(b)):\n",
        "    solver += pulp.lpSum(a[u][r] * x[r]\n",
        "                         for r in range(len(x))) <= b[u]\n",
        "\n",
        "for u in range(len(b_eq)):\n",
        "  solver += pulp.lpSum(a_eq[u][r] * x[r] for r in range(len(x))) == b_eq[u]\n",
        "\n",
        "solver += (pulp.lpSum(c[i] * x[i] for i in range(len(x))))\n",
        "\n",
        "solver.solve()\n",
        "#solver.writeLP(\"lp_problem.lp\")\n",
        "if solver.solve():\n",
        "  x_optimal = np.array([])\n",
        "  for variable in solver.variables():\n",
        "      x_optimal = np.append(x_optimal, variable.varValue)\n",
        "  print(x_optimal, np.sum(c * x_optimal))\n",
        "else:\n",
        "  print('The solver could not find an optimal solution.')"
      ]
    },
    {
      "cell_type": "markdown",
      "metadata": {
        "id": "RGBJblJeZ8sy"
      },
      "source": [
        "### Задание 4"
      ]
    },
    {
      "cell_type": "markdown",
      "metadata": {
        "id": "2EJgqntGaEkj"
      },
      "source": [
        "1. С помощью PULP найти решение задачи линейного программирования\n",
        "\n",
        "\\begin{align}\n",
        "f(x)=\\sum\\limits_{i=\\overline{1,10}} x_i\\to \\max\\limits_{G},\\\\\n",
        "G=\\left\\{ \\sum\\limits_{i=\\overline{1,10}} i\\cdot x_i \\le 2310,\\\\\n",
        " \\sum\\limits_{i \\in \\{1,3,5,7,9\\}} a_i \\cdot x_i \\le 1800, \\, a = (1, 4, 12, 0, -1), \\\\\n",
        " \\sum\\limits_{i \\in \\{2,4,6,8,10\\}} q_i \\cdot x_i \\ge 390, \\, q = (1, -1, 1, 7, 3),\\\\\n",
        "  \\sum\\limits_{i=\\overline{1,5}} w_i\\cdot x_i \\ge 300, \\,w_i= (1, 3, 5, 8, 1),\\\\\n",
        "0\\le x_{i} \\le 100, \\, i=\\overline{0,10} \\right\\}\n",
        "\\end{align}\n",
        "\n",
        "\n",
        "2. Если задача не имеет оптимального плана, то выяснить причину отсутсвия оптимального плана.\n",
        "Например, найти ограничение, из-за которого $G = \\varnothing$.\n",
        "\n",
        "Найти минимальное значение правой части при котором данное $G \\neq \\varnothing$ для ограничений неравенств типа \"$\\le$\" или максимальное значение правой части при котором данное $G \\neq \\varnothing$ для ограничений неравенств типа \"$\\ge$\" или любое значение правой части при котором данное $G \\neq \\varnothing$ для ограничений равенств.\n",
        "\n",
        "\n",
        "**Бонусные баллы**\n",
        " - если каждый этап решения задачи (построение перемеменных, построение ограничений, построение целевой функции, проверка решения на оптимальность, вывод решения и др) будет реализован в виде отдельного метода."
      ]
    },
    {
      "cell_type": "markdown",
      "metadata": {
        "id": "B3R4yVsBV0cO"
      },
      "source": [
        "##CVXPY"
      ]
    },
    {
      "cell_type": "markdown",
      "metadata": {
        "id": "TXt7U_3RV_yL"
      },
      "source": [
        "##Основные шаги в решении задачи линейного программирования с использованием CVXPY."
      ]
    },
    {
      "cell_type": "markdown",
      "metadata": {
        "id": "taR12f9Me5xM"
      },
      "source": []
    },
    {
      "cell_type": "markdown",
      "metadata": {
        "id": "UwMdVqALWEmO"
      },
      "source": [
        "###0. Установка библиотек."
      ]
    },
    {
      "cell_type": "markdown",
      "metadata": {
        "id": "_jHWRCpmWU0D"
      },
      "source": [
        "```\n",
        "pip install cvxpy\n",
        "```"
      ]
    },
    {
      "cell_type": "markdown",
      "metadata": {
        "id": "oDh4q5oIWoVO"
      },
      "source": [
        "###1. Импорт необходимых библиотек."
      ]
    },
    {
      "cell_type": "markdown",
      "metadata": {
        "id": "sIiEgPEgWtx0"
      },
      "source": [
        "```\n",
        "import cvxpy as cp\n",
        "```"
      ]
    },
    {
      "cell_type": "markdown",
      "metadata": {
        "id": "ZQ_YPUXVZzmf"
      },
      "source": [
        "### 3. Создание переменных, ограничений и целевой функции"
      ]
    },
    {
      "cell_type": "markdown",
      "metadata": {
        "id": "1eTjkMlYZ9mf"
      },
      "source": [
        "a) Создание переменных\n",
        "\n",
        "```\n",
        "x = cp.Variable(n)\n",
        "```\n",
        "где $n$ размерность вектора $x$.\n",
        "\n",
        "б) Создание ограничений. Создаем список ограничений, добавляем ограничения равенства\n",
        "```\n",
        "constraints = [a_eq@x == b_eq]\n",
        "```\n",
        "потом добавляем неравенства\n",
        "\n",
        "```\n",
        "constraints.extend([a@x <= b])\n",
        "```\n",
        "\n",
        "в) Создаем целевую функцию (cp.Maximize или cp.Minimize)\n",
        "\n",
        "```\n",
        "objective = cp.Maximize(c.T@x)\n",
        "```"
      ]
    },
    {
      "cell_type": "markdown",
      "metadata": {
        "id": "DLW8fPpgW3kr"
      },
      "source": [
        "###4. Объявление солвера и решение задачи"
      ]
    },
    {
      "cell_type": "markdown",
      "metadata": {
        "id": "ebDdl2qtW4-e"
      },
      "source": [
        "```\n",
        "prob = cp.Problem(objective, constraints)\n",
        "prob.solve()\n",
        "```"
      ]
    },
    {
      "cell_type": "markdown",
      "metadata": {
        "id": "zdWk1Wu-dRuF"
      },
      "source": [
        "### 5. Отображение результата"
      ]
    },
    {
      "cell_type": "markdown",
      "metadata": {
        "id": "SSEIhTcbdYoW"
      },
      "source": [
        "\n",
        "Если статус солвера сопадает с оптимальным, то  решение найдено. Можно вывести значение целевой функции и переменных.\n",
        "Иначе, задача не имеет решения.\n",
        "\n",
        "```\n",
        "if prob.solve():\n",
        "    print(\"\\nThe optimal value is\", prob.value)\n",
        "    print(x.value)\n",
        "else:\n",
        "    print('The solver could not find an optimal solution.')\n",
        "\n",
        "```"
      ]
    },
    {
      "cell_type": "markdown",
      "metadata": {
        "id": "AB3FtKnrc0Uq"
      },
      "source": [
        "solver.solve()\n"
      ]
    },
    {
      "cell_type": "markdown",
      "metadata": {
        "id": "ikWHSI1qhC4J"
      },
      "source": [
        "###Пример"
      ]
    },
    {
      "cell_type": "code",
      "execution_count": null,
      "metadata": {
        "colab": {
          "base_uri": "https://localhost:8080/"
        },
        "id": "AGQpyakyWLOe",
        "outputId": "cf42a066-fcce-4b73-db95-060f00c2ef41"
      },
      "outputs": [],
      "source": [
        "pip install cvxpy"
      ]
    },
    {
      "cell_type": "code",
      "execution_count": null,
      "metadata": {
        "colab": {
          "base_uri": "https://localhost:8080/"
        },
        "id": "waGGQCtFWg3w",
        "outputId": "586c8022-6e2b-4f89-e47a-ca8471b577e9"
      },
      "outputs": [],
      "source": [
        "import cvxpy as cp\n",
        "import numpy as np\n",
        "\n",
        "c = np.array([29.0, 45.0, 0.0, 0.0])\n",
        "\n",
        "a = np.array([\n",
        "    [1.0, -1.0, -3.0, 0.0],\n",
        "    [-2.0, 3.0, 7.0, -3.0],\n",
        "    [1.0,  0.0, 0.0,  0.0],\n",
        "    [-1.0, 0.0, 0.0,  0.0],\n",
        "    [0.0,  0.0, -1.0, 0.0]\n",
        "])\n",
        "b = np.array([5.0, -10.0, 6, 0, 3])\n",
        "a_eq = np.array([\n",
        "    [2.0, 8.0, 1.0, 0.0],\n",
        "    [4.0, 4.0, 0.0, 1.0]\n",
        "])\n",
        "b_eq = np.array([60.0, 60.0])\n",
        "\n",
        "n = len(c)\n",
        "x = cp.Variable(n)\n",
        "\n",
        "objective = cp.Maximize(c.T@x)\n",
        "constraints = [a_eq @ x == b_eq]\n",
        "constraints.extend([a @ x <= b])\n",
        "\n",
        "prob = cp.Problem(objective, constraints)\n",
        "prob.solve()\n",
        "\n",
        "if prob.solve():\n",
        "    print(\"\\nThe optimal value is\", prob.value)\n",
        "    print(\"A solution x is\")\n",
        "    print(x.value)\n",
        "else:\n",
        "    print('The solver could not find an optimal solution.')"
      ]
    },
    {
      "cell_type": "markdown",
      "metadata": {
        "id": "JbosuCQ_ePCm"
      },
      "source": [
        "###Задание 5"
      ]
    },
    {
      "cell_type": "markdown",
      "metadata": {
        "id": "ZeSE2vpReT5b"
      },
      "source": [
        "1. С помощью CVXOPT найти решение задачи линейного программирования\n",
        "\n",
        "\\begin{align}\n",
        "f(x)=\\sum\\limits_{i=\\overline{1,100}}\\sum\\limits_{j=\\overline{1,100}} x_{ij}\\to \\max\\limits_{G},\\\\\n",
        "G=\\left\\{  \\sum\\limits_{i=\\overline{1,100}} x_{ij} \\le 10000, \\,j=\\overline{1,100},\\\\\n",
        "\\sum\\limits_{j=\\overline{1,100}} x_{ij} \\le 20000, \\,i=\\overline{1,100},\\\\\n",
        "x_{ij} \\ge 0, i=\\overline{1,100}, j=\\overline{1,100}\n",
        "\\right\\}\n",
        "\\end{align}\n",
        "\n",
        "\n",
        "2. Если задача не имеет оптимального плана, то выяснить причину отсутсвия оптимального плана.\n",
        "Например, найти ограничение, из-за которого $G = \\varnothing$.\n",
        "\n",
        "Найти минимальное значение правой части при котором данное $G \\neq \\varnothing$ для ограничений неравенств типа \"$\\le$\" или максимальное значение правой части при котором данное $G \\neq \\varnothing$ для ограничений неравенств типа \"$\\ge$\" или любое значение правой части при котором данное $G \\neq \\varnothing$ для ограничений равенств.\n",
        "\n",
        "\n",
        "**Бонусные баллы**\n",
        " - если каждый этап решения задачи (построение перемеменных, построение ограничений, построение целевой функции, проверка решения на оптимальность, вывод решения и др) будет реализован в виде отдельного метода."
      ]
    },
    {
      "cell_type": "markdown",
      "metadata": {
        "id": "50V3RS0l9YzC"
      },
      "source": [
        "# Часть 2 Решение задач"
      ]
    },
    {
      "cell_type": "markdown",
      "metadata": {
        "id": "gDHuXvjwFrFr"
      },
      "source": [
        "1.  Для производства изделий А и В мастерская располагает необходимыми деталями двух видов: Д1 в количестве 80 штук и Д2 в количестве 60 штук.\n",
        "Для производства одного изделия А требуется одна деталь Д1 и одна деталь Д2;\n",
        "для производства одного изделия В требуется две детали  Д1 и одна деталь Д2.\n",
        "Составить оптимальный план производства по доходу, если доход от продажи одного изделия А составляет 3 д.е., а от продажи одного изделия В --- 4 д.е.\n",
        "\n",
        "2.   Для изготовления изделий двух видов имеется 100 кг. металла. На изготовление одного изделия первого вида расходуется 2 кг. металла, а на изготовление одного изделия второго вида требуется 4 кг. Составить план производства, обеспечивающий получение наибольшего дохода от продажи изделий, если доход от продажи каждого изделия первого вида --- 3 д.е., а от каждого изделия второго вида --- 2 д.е. Причем, изделий первого вида требуется изготовить не более 40 штук, а изделий второго вида --- не более 20 штук.\n",
        "\n",
        "3.  Решить задачу линейного программирования графическим методом\n",
        "\\begin{align}\n",
        "f=x_{1} +5x_{2}  \\to \\max\\limits_D, \\\\\n",
        "D= \\left\\{ 4x_{1} +3x_{2} \\le 12, \\quad\n",
        "3x_{1} +2x_{2} \\ge 6, \\quad\n",
        "-6x_{1} +7x_{2} \\le 14, \\\\\n",
        "2x_{1} -3x_{2} \\le 5,\n",
        "x_{1} \\ge 0,\\; x_{2} \\ge 0 \\right\\}.\n",
        "\\end{align}\n",
        "4.  Решить задачу линейного программирования графическим методом\n",
        "\\begin{align}\n",
        "f=7x_{1} +5x_{2}  \\to \\min\\limits_D,  \\\\\n",
        "D= \\left\\{3x_{1} +8x_{2} \\ge 24, \\quad -7x_{1} +3x_{2} \\le 21,\\\\ 5x_{1} +4x_{2} \\ge 20,\\quad x_{2} \\le 8,\\quad x_{1} \\ge 0, \\quad x_{2} \\ge 0 \\right\\}.\n",
        "\\end{align}\n",
        "5.  Решить задачу линейного программирования симплекс методом\n",
        "\\begin{align}\n",
        "f=x_{1} +3x_{2}-2x_3+5  \\to \\max\\limits_D, \\\\\n",
        "D= \\left\\{ 3x_{1} +x_{2}+3x_3 \\le 11, \\quad\n",
        "x_{1} +3x_{2}+8x_3 \\le 9, \\quad\n",
        "2x_{1} +5x_{2}+6x_3 \\le 16, \\quad\n",
        "x_{1} \\ge 0,\\quad  x_{2} \\ge 0,\\quad x_{3} \\ge 0  \\right\\}.\n",
        "\\end{align}\n",
        "\n",
        "6.  Решить задачу линейного программирования симплекс методом\n",
        "\\begin{align}\n",
        "f=4x_{1} +2x_{2}-3x_3+6  \\to \\max\\limits_D, \\\\\n",
        "D= \\left\\{ 5x_{1} -x_{2}+3x_3 \\le 10, \\quad\n",
        "4x_{1} - x_{2}+8x_3 \\le 12, \\quad\n",
        "2x_{1} -5x_{2}+6x_3 \\le 22, \\quad\n",
        "x_{1} \\ge 0,\\quad  x_{2} \\ge 0,\\quad x_{3} \\ge 0  \\right\\}.\n",
        "\\end{align}\n",
        "\n",
        "7.  Для задачи линейного программирования\n",
        "\\begin{align}f(x)=x_1+2x_2-x_3\\to \\max\\limits_D, \\\\\n",
        "D= \\left\\{\n",
        "x_{1} +2x_{2} + 3 x_3\\geq 12, \\quad\n",
        "4x_{1} +2x_{2}+x_3 \\leq 24, \\\\\n",
        "4x_{1} +6x_{2}+2x_3 = 32, \\quad\n",
        "x_{1} \\ge 0,\\quad  x_{2} \\ge 0,\\quad x_{3} \\ge 0\n",
        "\\right\\}.\n",
        "\\end{align}\n",
        "найти неотрицательный начальный опорный план методом искусственного базиса.\n",
        "\n",
        "7.  Заменой свести следующую задачу к задаче линейного программирования и найти неотрицательный опорный план\n",
        "\n",
        "\\begin{align}F=\\frac{2x_1-x_2}{3x_1+x_2}  \\to \\max\\limits_D, \\\\\n",
        "D= \\left\\{ x_{1} +2x_{2} = 11, \\quad\n",
        "  x_1-x_2=8, \\\\\n",
        "  -x_1+3x_2=9, \\quad\n",
        " x_{1} \\ge 0,\\quad  x_{2} \\ge 0 \\right\\}.\n",
        "\\end{align}\n",
        "\n",
        "8. Доказать, что множество планов основной задачи линейного программирования является выпуклым (если оно не пусто).\n",
        "\\item Привести к канонической форме следующую задачу линейного программирования. Определить, какие переменные являются базисными, найти начальное опорное\n",
        "решение и начальное значение целевой функции:\n",
        "\\begin{align}\n",
        "\\begin{array}{l} {F=6x_1+8x_2+x_3 \\to \\max} \\\\\n",
        " {\\left\\{\\begin{array}{l} {x_1+x_2+x_3\\geq3,} \\\\\n",
        "  {x_1+2x_2\\leq4} \\\\\n",
        "    {x_1 \\ge 0, x_2 \\ge 0, x_3 \\ge 0} \\end{array}\\right. } \\end{array}\n",
        "\\end{align}\n",
        "\n",
        "9.Привести к канонической форме следующую задачу линейного программирования. Определить, какие переменные являются базисными, найти начальное опорное\n",
        "решение и начальное значение целевой функции:\n",
        "\\begin{align}\n",
        "\\begin{array}{l} {F=6x_1+8x_2-x_3 \\to \\max,} \\\\\n",
        " {\\left\\{\\begin{array}{l} {12x_1+x_2+2x_3\\leq3,} \\\\\n",
        "  {x_1+2x_2\\geq4} \\\\\n",
        "    {x_1 \\ge 0, x_2 \\ge 0, x_3 \\ge 0} \\end{array}\\right. } \\end{array}\n",
        "\\end{align}\n",
        "\n",
        "\n",
        "\n",
        "10. Решить задачу линейного программирования симплекс-методом:\n",
        " \\begin{align}\\begin{array}{l} {-4x_1+2x_3\\to \\max} \\\\\n",
        " {\\left\\{\\begin{array}{l} {x_3\\leq 3} \\\\\n",
        "  {5x_1+2x_2\\leq4} \\\\\n",
        "    {x_j \\ge 0, \\overline{j=1,3}}\n",
        "    \\end{array}\\right. } \\end{array}\\end{align}\n",
        "\n",
        "11. Решить задачу линейного программирования симплекс-методом:\n",
        " \\begin{align}\\begin{array}{l} {2x_1+2x_3+2\\to \\max} \\\\\n",
        " {\\left\\{\\begin{array}{l}\n",
        "  {2x_1+x_2+x_3\\leq13} \\\\\n",
        "   {2x_1-5x_2+4x_3\\leq19}\\\\\n",
        "    {x_j \\ge 0, \\overline{j=1,3}}\n",
        "    \\end{array}\\right. } \\end{array}\\end{align}\n",
        "\n",
        "12. Решить задачу линейного программирования симплекс-методом:\n",
        " \\begin{align}\\begin{array}{l} {-3x_1+4x_3+2\\to \\max} \\\\\n",
        " {\\left\\{\\begin{array}{l}\n",
        "  {3x_1+x_2\\leq7} \\\\\n",
        "   {4x_1+2x_2+3x_3\\leq18}\\\\\n",
        "    {x_j \\ge 0, \\overline{j=1,3}}\n",
        "    \\end{array}\\right. } \\end{array}\\end{align}\n",
        "\n",
        "13.  Решить задачу линейного программирования симплекс-методом:\n",
        " \\begin{align}\\begin{array}{l} {x_1+4x_2+3x_2-2\\to \\max} \\\\\n",
        " {\\left\\{\\begin{array}{l}\n",
        "  {x_1-3x_2+2x_3\\leq4} \\\\\n",
        "   {x_1-x_2+2x_3\\leq5}\\\\\n",
        "    {x_j \\ge 0, \\overline{j=1,3}}\n",
        "    \\end{array}\\right. } \\end{array}\\end{align}\n",
        "\n",
        "14.  Решить задачу линейного программирования симплекс-методом:\n",
        " \\begin{align}\\begin{array}{l} {3x_1+2x_3-x_6\\to \\max} \\\\\n",
        " {\\left\\{\\begin{array}{l}\n",
        "  {2x_1+x_2-3x_3+6x_6=18} \\\\\n",
        "   {-3x_1+2x_3+x_4-2x_6=24}\\\\\n",
        "      {x_1+3x_3+x_5-4x_6=36}\\\\\n",
        "    {x_j \\ge 0, \\overline{j=1,6}}\n",
        "    \\end{array}\\right. } \\end{array}\\end{align}\n",
        "\n",
        "\n",
        "\n"
      ]
    },
    {
      "cell_type": "markdown",
      "metadata": {
        "id": "O0yMmzU59dIl"
      },
      "source": [
        "# Часть 3 Теория"
      ]
    },
    {
      "cell_type": "markdown",
      "metadata": {
        "id": "Igp9sZChNoz_"
      },
      "source": [
        "## Теоретический минимум по методам оптимизации"
      ]
    },
    {
      "cell_type": "markdown",
      "metadata": {
        "id": "fPIickrK_UJh"
      },
      "source": [
        "Необходимо ответить без подготовки не менее, чем на 4 вопроса.\n",
        "\n",
        "1.    Перечислите формы задач линейного программирования?\n",
        "2.    Какая форма задачи линейного программирования называется общей?\n",
        "3.    Какая форма задачи линейного программирования называется канонической?\n",
        "4.    Какая форма задачи линейного программирования называется стандартной?\n",
        "5.    Какая функция называется целевой для задачи линейного программирования?\n",
        "6.    Что такое план задачи линейного программирования?\n",
        "7.    Какое множество называется выпуклым?\n",
        "8.    Какая точка выпуклого множества называется угловой?\n",
        "9.    Какой план задачи линейного программирования называется опорным?\n",
        "10.   Какой план задачи линейного программирования называется невырожденным?\n",
        "11.   Может ли целевая функция задачи линейного программирования принимать максимальное значение более чем в одной вершине многогранника решений?\n",
        "12.   Могут ли ограничения в задаче линейного программирования быть строгими ($>$ или $<$)?\n",
        "13.   В каком случае необходимо применять метод искусственного базиса?\n"
      ]
    },
    {
      "cell_type": "markdown",
      "metadata": {
        "id": "ryhbmUv2Nx5Y"
      },
      "source": [
        "## Теоретический минимум python"
      ]
    },
    {
      "cell_type": "markdown",
      "metadata": {
        "id": "RdLfMZpgN5fw"
      },
      "source": [
        "1.  Каким образом можно задать ограничение $3 \\le x_3 \\le 5 $ при решении задачи линейного программирования с помощью функции linprog?\n",
        "2.  Каким образом можно задать ограничение $2x_1+ 4x_4-3 x_3+x_4 \\ge 12 $ при решении задачи линейного программирования с помощью функции linprog?\n",
        "3. Для каких целей используется параметр bounds в функции linprog?\n",
        "4. В чем разница параметров A_ub и A_eq  в функции linprog?\n",
        "5. Каким образом можно задать ограничение $5 \\le x_3 \\le +\\infty $ при решении задачи линейного программирования с помощью OR-Tools на языке python?\n",
        "6.  Каким образом можно задать ограничение $2x_1 - 4x_4-3 x_3+x_4 \\ge 12 $ при решении задачи линейного программирования с помощью OR-Tools на языке python?\n",
        "7. Как создаются переменные для задачи линейного программирования с помощью OR-Tools на языке python?\n",
        "8. В чем различие создания целочисленной и вещественной переменной в OR-Tools на языке python?\n",
        "9. Как проверить найден ли оптимальный план задачи линейного программирования в в OR-Tools на языке python?\n",
        "10. Что делает эта команда solver.NumVar(0, 6, \"x1\") в OR-Tools на языке python?\n",
        "11. Как создаются ограничения для задачи линейного программирования в OR-Tools на языке python?\n",
        "12. Как создается целевая функция задачи линейного программирования в OR-Tools на языке python?\n",
        "13. Как создаются ограничения равенства задачи линейного программирования в OR-Tools на языке python?\n",
        "14. Как создаются ограничения неравенства задачи линейного программирования в OR-Tools на языке python?\n",
        "15. Поясните, почему для разобранного примера различается матричная запись задачи при использовании linprog и OR-Tools?\n",
        "16. Назовите основные шаги при решении задачи линейного программирования с использованием OR-Tools.\n",
        "\n",
        "\n",
        "\n",
        "\n",
        "\n"
      ]
    }
  ],
  "metadata": {
    "colab": {
      "collapsed_sections": [
        "50V3RS0l9YzC"
      ],
      "provenance": []
    },
    "kernelspec": {
      "display_name": "Python 3",
      "language": "python",
      "name": "python3"
    },
    "language_info": {
      "codemirror_mode": {
        "name": "ipython",
        "version": 3
      },
      "file_extension": ".py",
      "mimetype": "text/x-python",
      "name": "python",
      "nbconvert_exporter": "python",
      "pygments_lexer": "ipython3",
      "version": "3.11.9"
    }
  },
  "nbformat": 4,
  "nbformat_minor": 0
}
